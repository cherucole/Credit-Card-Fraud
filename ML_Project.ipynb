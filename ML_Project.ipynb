{
  "nbformat": 4,
  "nbformat_minor": 0,
  "metadata": {
    "colab": {
      "name": "ML_Project.ipynb",
      "version": "0.3.2",
      "provenance": [],
      "include_colab_link": true
    },
    "kernelspec": {
      "name": "python3",
      "display_name": "Python 3"
    }
  },
  "cells": [
    {
      "cell_type": "markdown",
      "metadata": {
        "id": "view-in-github",
        "colab_type": "text"
      },
      "source": [
        "<a href=\"https://colab.research.google.com/github/kpratikin/Machine_Learning_Techniques/blob/master/ML_Project.ipynb\" target=\"_parent\"><img src=\"https://colab.research.google.com/assets/colab-badge.svg\" alt=\"Open In Colab\"/></a>"
      ]
    },
    {
      "cell_type": "code",
      "metadata": {
        "id": "JVzCEVYXGXL5",
        "colab_type": "code",
        "colab": {
          "base_uri": "https://localhost:8080/",
          "height": 122
        },
        "outputId": "519b3ab1-54b8-4280-8f51-2d69919d32b7"
      },
      "source": [
        "from google.colab import drive\n",
        "drive.mount('/content/gdrive')"
      ],
      "execution_count": 2,
      "outputs": [
        {
          "output_type": "stream",
          "text": [
            "Go to this URL in a browser: https://accounts.google.com/o/oauth2/auth?client_id=947318989803-6bn6qk8qdgf4n4g3pfee6491hc0brc4i.apps.googleusercontent.com&redirect_uri=urn%3Aietf%3Awg%3Aoauth%3A2.0%3Aoob&scope=email%20https%3A%2F%2Fwww.googleapis.com%2Fauth%2Fdocs.test%20https%3A%2F%2Fwww.googleapis.com%2Fauth%2Fdrive%20https%3A%2F%2Fwww.googleapis.com%2Fauth%2Fdrive.photos.readonly%20https%3A%2F%2Fwww.googleapis.com%2Fauth%2Fpeopleapi.readonly&response_type=code\n",
            "\n",
            "Enter your authorization code:\n",
            "··········\n",
            "Mounted at /content/gdrive\n"
          ],
          "name": "stdout"
        }
      ]
    },
    {
      "cell_type": "code",
      "metadata": {
        "id": "788_QiUkGnSI",
        "colab_type": "code",
        "colab": {
          "base_uri": "https://localhost:8080/",
          "height": 34
        },
        "outputId": "2e613d3e-78fb-4b79-9913-5265b72fdbdb"
      },
      "source": [
        "!ls \"/content/gdrive/Team Drives/Machine Learning with R/Project/Data/\""
      ],
      "execution_count": 3,
      "outputs": [
        {
          "output_type": "stream",
          "text": [
            "compas-scores-raw.csv  compas-scores-two-years.csv\n"
          ],
          "name": "stdout"
        }
      ]
    },
    {
      "cell_type": "code",
      "metadata": {
        "id": "hhX-9_hOGY2b",
        "colab_type": "code",
        "colab": {
          "base_uri": "https://localhost:8080/",
          "height": 51
        },
        "outputId": "4ae571cf-ec58-4c02-fb55-076a15d3c2f0"
      },
      "source": [
        "import pandas as pd\n",
        "# filter dplyr warnings\n",
        "%load_ext rpy2.ipython\n",
        "import warnings\n",
        "warnings.filterwarnings('ignore')\n",
        "\n",
        "# print all the outputs in a cell\n",
        "from IPython.core.interactiveshell import InteractiveShell\n",
        "InteractiveShell.ast_node_interactivity = \"all\""
      ],
      "execution_count": 20,
      "outputs": [
        {
          "output_type": "stream",
          "text": [
            "The rpy2.ipython extension is already loaded. To reload it, use:\n",
            "  %reload_ext rpy2.ipython\n"
          ],
          "name": "stdout"
        }
      ]
    },
    {
      "cell_type": "code",
      "metadata": {
        "id": "ob1TdJOwHEeL",
        "colab_type": "code",
        "colab": {
          "base_uri": "https://localhost:8080/",
          "height": 326
        },
        "outputId": "6cf28ad0-9869-431e-d5f9-c7864fe146f3"
      },
      "source": [
        "df = pd.read_csv(\"/content/gdrive/Team Drives/Machine Learning with R/Project/Data/compas-scores-raw.csv\")\n",
        "df.head(5)"
      ],
      "execution_count": 9,
      "outputs": [
        {
          "output_type": "execute_result",
          "data": {
            "text/html": [
              "<div>\n",
              "<style scoped>\n",
              "    .dataframe tbody tr th:only-of-type {\n",
              "        vertical-align: middle;\n",
              "    }\n",
              "\n",
              "    .dataframe tbody tr th {\n",
              "        vertical-align: top;\n",
              "    }\n",
              "\n",
              "    .dataframe thead th {\n",
              "        text-align: right;\n",
              "    }\n",
              "</style>\n",
              "<table border=\"1\" class=\"dataframe\">\n",
              "  <thead>\n",
              "    <tr style=\"text-align: right;\">\n",
              "      <th></th>\n",
              "      <th>Person_ID</th>\n",
              "      <th>AssessmentID</th>\n",
              "      <th>Case_ID</th>\n",
              "      <th>Agency_Text</th>\n",
              "      <th>LastName</th>\n",
              "      <th>FirstName</th>\n",
              "      <th>MiddleName</th>\n",
              "      <th>Sex_Code_Text</th>\n",
              "      <th>Ethnic_Code_Text</th>\n",
              "      <th>DateOfBirth</th>\n",
              "      <th>ScaleSet_ID</th>\n",
              "      <th>ScaleSet</th>\n",
              "      <th>AssessmentReason</th>\n",
              "      <th>Language</th>\n",
              "      <th>LegalStatus</th>\n",
              "      <th>CustodyStatus</th>\n",
              "      <th>MaritalStatus</th>\n",
              "      <th>Screening_Date</th>\n",
              "      <th>RecSupervisionLevel</th>\n",
              "      <th>RecSupervisionLevelText</th>\n",
              "      <th>Scale_ID</th>\n",
              "      <th>DisplayText</th>\n",
              "      <th>RawScore</th>\n",
              "      <th>DecileScore</th>\n",
              "      <th>ScoreText</th>\n",
              "      <th>AssessmentType</th>\n",
              "      <th>IsCompleted</th>\n",
              "      <th>IsDeleted</th>\n",
              "    </tr>\n",
              "  </thead>\n",
              "  <tbody>\n",
              "    <tr>\n",
              "      <th>0</th>\n",
              "      <td>50844</td>\n",
              "      <td>57167</td>\n",
              "      <td>51950</td>\n",
              "      <td>PRETRIAL</td>\n",
              "      <td>Fisher</td>\n",
              "      <td>Kevin</td>\n",
              "      <td>NaN</td>\n",
              "      <td>Male</td>\n",
              "      <td>Caucasian</td>\n",
              "      <td>12/05/92</td>\n",
              "      <td>22</td>\n",
              "      <td>Risk and Prescreen</td>\n",
              "      <td>Intake</td>\n",
              "      <td>English</td>\n",
              "      <td>Pretrial</td>\n",
              "      <td>Jail Inmate</td>\n",
              "      <td>Single</td>\n",
              "      <td>1/1/13 0:00</td>\n",
              "      <td>1</td>\n",
              "      <td>Low</td>\n",
              "      <td>7</td>\n",
              "      <td>Risk of Violence</td>\n",
              "      <td>-2.08</td>\n",
              "      <td>4</td>\n",
              "      <td>Low</td>\n",
              "      <td>New</td>\n",
              "      <td>1</td>\n",
              "      <td>0</td>\n",
              "    </tr>\n",
              "    <tr>\n",
              "      <th>1</th>\n",
              "      <td>50844</td>\n",
              "      <td>57167</td>\n",
              "      <td>51950</td>\n",
              "      <td>PRETRIAL</td>\n",
              "      <td>Fisher</td>\n",
              "      <td>Kevin</td>\n",
              "      <td>NaN</td>\n",
              "      <td>Male</td>\n",
              "      <td>Caucasian</td>\n",
              "      <td>12/05/92</td>\n",
              "      <td>22</td>\n",
              "      <td>Risk and Prescreen</td>\n",
              "      <td>Intake</td>\n",
              "      <td>English</td>\n",
              "      <td>Pretrial</td>\n",
              "      <td>Jail Inmate</td>\n",
              "      <td>Single</td>\n",
              "      <td>1/1/13 0:00</td>\n",
              "      <td>1</td>\n",
              "      <td>Low</td>\n",
              "      <td>8</td>\n",
              "      <td>Risk of Recidivism</td>\n",
              "      <td>-1.06</td>\n",
              "      <td>2</td>\n",
              "      <td>Low</td>\n",
              "      <td>New</td>\n",
              "      <td>1</td>\n",
              "      <td>0</td>\n",
              "    </tr>\n",
              "    <tr>\n",
              "      <th>2</th>\n",
              "      <td>50844</td>\n",
              "      <td>57167</td>\n",
              "      <td>51950</td>\n",
              "      <td>PRETRIAL</td>\n",
              "      <td>Fisher</td>\n",
              "      <td>Kevin</td>\n",
              "      <td>NaN</td>\n",
              "      <td>Male</td>\n",
              "      <td>Caucasian</td>\n",
              "      <td>12/05/92</td>\n",
              "      <td>22</td>\n",
              "      <td>Risk and Prescreen</td>\n",
              "      <td>Intake</td>\n",
              "      <td>English</td>\n",
              "      <td>Pretrial</td>\n",
              "      <td>Jail Inmate</td>\n",
              "      <td>Single</td>\n",
              "      <td>1/1/13 0:00</td>\n",
              "      <td>1</td>\n",
              "      <td>Low</td>\n",
              "      <td>18</td>\n",
              "      <td>Risk of Failure to Appear</td>\n",
              "      <td>15.00</td>\n",
              "      <td>1</td>\n",
              "      <td>Low</td>\n",
              "      <td>New</td>\n",
              "      <td>1</td>\n",
              "      <td>0</td>\n",
              "    </tr>\n",
              "    <tr>\n",
              "      <th>3</th>\n",
              "      <td>50848</td>\n",
              "      <td>57174</td>\n",
              "      <td>51956</td>\n",
              "      <td>PRETRIAL</td>\n",
              "      <td>KENDALL</td>\n",
              "      <td>KEVIN</td>\n",
              "      <td>NaN</td>\n",
              "      <td>Male</td>\n",
              "      <td>Caucasian</td>\n",
              "      <td>09/16/84</td>\n",
              "      <td>22</td>\n",
              "      <td>Risk and Prescreen</td>\n",
              "      <td>Intake</td>\n",
              "      <td>English</td>\n",
              "      <td>Pretrial</td>\n",
              "      <td>Jail Inmate</td>\n",
              "      <td>Married</td>\n",
              "      <td>1/1/13 0:00</td>\n",
              "      <td>1</td>\n",
              "      <td>Low</td>\n",
              "      <td>7</td>\n",
              "      <td>Risk of Violence</td>\n",
              "      <td>-2.84</td>\n",
              "      <td>2</td>\n",
              "      <td>Low</td>\n",
              "      <td>New</td>\n",
              "      <td>1</td>\n",
              "      <td>0</td>\n",
              "    </tr>\n",
              "    <tr>\n",
              "      <th>4</th>\n",
              "      <td>50848</td>\n",
              "      <td>57174</td>\n",
              "      <td>51956</td>\n",
              "      <td>PRETRIAL</td>\n",
              "      <td>KENDALL</td>\n",
              "      <td>KEVIN</td>\n",
              "      <td>NaN</td>\n",
              "      <td>Male</td>\n",
              "      <td>Caucasian</td>\n",
              "      <td>09/16/84</td>\n",
              "      <td>22</td>\n",
              "      <td>Risk and Prescreen</td>\n",
              "      <td>Intake</td>\n",
              "      <td>English</td>\n",
              "      <td>Pretrial</td>\n",
              "      <td>Jail Inmate</td>\n",
              "      <td>Married</td>\n",
              "      <td>1/1/13 0:00</td>\n",
              "      <td>1</td>\n",
              "      <td>Low</td>\n",
              "      <td>8</td>\n",
              "      <td>Risk of Recidivism</td>\n",
              "      <td>-1.50</td>\n",
              "      <td>1</td>\n",
              "      <td>Low</td>\n",
              "      <td>New</td>\n",
              "      <td>1</td>\n",
              "      <td>0</td>\n",
              "    </tr>\n",
              "  </tbody>\n",
              "</table>\n",
              "</div>"
            ],
            "text/plain": [
              "   Person_ID  AssessmentID  Case_ID  ... AssessmentType IsCompleted IsDeleted\n",
              "0      50844         57167    51950  ...            New           1         0\n",
              "1      50844         57167    51950  ...            New           1         0\n",
              "2      50844         57167    51950  ...            New           1         0\n",
              "3      50848         57174    51956  ...            New           1         0\n",
              "4      50848         57174    51956  ...            New           1         0\n",
              "\n",
              "[5 rows x 28 columns]"
            ]
          },
          "metadata": {
            "tags": []
          },
          "execution_count": 9
        }
      ]
    },
    {
      "cell_type": "code",
      "metadata": {
        "id": "y4GitQVuHOYz",
        "colab_type": "code",
        "colab": {
          "base_uri": "https://localhost:8080/",
          "height": 153
        },
        "outputId": "f8dee01e-8603-4035-eca6-6c7500d30fa0"
      },
      "source": [
        "df.columns"
      ],
      "execution_count": 10,
      "outputs": [
        {
          "output_type": "execute_result",
          "data": {
            "text/plain": [
              "Index(['Person_ID', 'AssessmentID', 'Case_ID', 'Agency_Text', 'LastName',\n",
              "       'FirstName', 'MiddleName', 'Sex_Code_Text', 'Ethnic_Code_Text',\n",
              "       'DateOfBirth', 'ScaleSet_ID', 'ScaleSet', 'AssessmentReason',\n",
              "       'Language', 'LegalStatus', 'CustodyStatus', 'MaritalStatus',\n",
              "       'Screening_Date', 'RecSupervisionLevel', 'RecSupervisionLevelText',\n",
              "       'Scale_ID', 'DisplayText', 'RawScore', 'DecileScore', 'ScoreText',\n",
              "       'AssessmentType', 'IsCompleted', 'IsDeleted'],\n",
              "      dtype='object')"
            ]
          },
          "metadata": {
            "tags": []
          },
          "execution_count": 10
        }
      ]
    },
    {
      "cell_type": "markdown",
      "metadata": {
        "id": "lkLZS0A5I4NP",
        "colab_type": "text"
      },
      "source": [
        "Total number of records - 60,843 records"
      ]
    },
    {
      "cell_type": "code",
      "metadata": {
        "id": "2G4ksDenI7nH",
        "colab_type": "code",
        "colab": {
          "base_uri": "https://localhost:8080/",
          "height": 34
        },
        "outputId": "66c56875-8ade-47b7-a60e-c17e50ac5621"
      },
      "source": [
        "df.shape"
      ],
      "execution_count": 14,
      "outputs": [
        {
          "output_type": "execute_result",
          "data": {
            "text/plain": [
              "(60843, 28)"
            ]
          },
          "metadata": {
            "tags": []
          },
          "execution_count": 14
        }
      ]
    },
    {
      "cell_type": "markdown",
      "metadata": {
        "id": "AVtWEN-9IVph",
        "colab_type": "text"
      },
      "source": [
        "**Coumns**"
      ]
    },
    {
      "cell_type": "code",
      "metadata": {
        "id": "kS_2M14OHvhO",
        "colab_type": "code",
        "colab": {
          "base_uri": "https://localhost:8080/",
          "height": 1173
        },
        "outputId": "288a244c-36f5-4edb-bcca-dde2308f2bb4"
      },
      "source": [
        "print('Unique Person_ID')\n",
        "df.Person_ID.nunique()\n",
        "\n",
        "print('')\n",
        "print('Unique AssessmentID')\n",
        "df.AssessmentID.nunique()\n",
        "\n",
        "print('')\n",
        "print('Unique Case_ID')\n",
        "df.Case_ID.nunique()\n",
        "\n",
        "print('')\n",
        "print('Unique Agency_Text')\n",
        "df.Agency_Text.nunique()\n",
        "print(df.Agency_Text.unique())\n",
        "\n",
        "print('')\n",
        "print('Unique Sex_Code_Text')\n",
        "df.Sex_Code_Text.nunique()\n",
        "print(df.Sex_Code_Text.unique())\n",
        "      \n",
        "print('')\n",
        "print('Unique Ethnic_Code_Text')\n",
        "df.Ethnic_Code_Text.nunique()\n",
        "print(df.Ethnic_Code_Text.unique())\n",
        "\n",
        "print('')\n",
        "print('Unique ScaleSet_ID')\n",
        "df.ScaleSet_ID.nunique()\n",
        "print(df.ScaleSet_ID.unique())\n",
        "\n",
        "print('')\n",
        "print('Unique ScaleSet')\n",
        "df.ScaleSet.nunique()\n",
        "print(df.ScaleSet.unique())\n",
        "\n",
        "print('')\n",
        "print('Unique AssessmentReason')\n",
        "df.AssessmentReason.nunique()\n",
        "print(df.AssessmentReason.unique())\n",
        "\n",
        "print('')\n",
        "print('Unique Language')\n",
        "df.Language.nunique()\n",
        "print(df.Language.unique())\n",
        "\n",
        "print('')\n",
        "print('Unique LegalStatus')\n",
        "df.LegalStatus.nunique()\n",
        "print(df.LegalStatus.unique())\n",
        "\n",
        "print('')\n",
        "print('Unique Custody Status')\n",
        "df.CustodyStatus.nunique()\n",
        "print(df.CustodyStatus.unique())\n",
        "\n",
        "print('')\n",
        "print('Unique Maritial Status')\n",
        "df.MaritalStatus.nunique()\n",
        "print(df.MaritalStatus.unique())\n",
        "\n",
        "#print('')\n",
        "#print('Unique Screening_Date')\n",
        "#df.Screening_Date.nunique()\n",
        "\n",
        "print('')\n",
        "print('Unique RecSupervisionLevel')\n",
        "df.RecSupervisionLevel.nunique()\n",
        "print(df.RecSupervisionLevel.unique())\n",
        "\n",
        "print('')\n",
        "print('Unique RecSupervisionLevelText')\n",
        "df.RecSupervisionLevelText.nunique()\n",
        "print(df.RecSupervisionLevelText.unique())\n",
        "\n",
        "print('')\n",
        "print('Unique RawScore')\n",
        "df.RawScore.nunique()\n",
        "#print(df.RawScore.unique())\n",
        "\n",
        "print('')\n",
        "print('Unique DecileScore')\n",
        "df.DecileScore.nunique()\n",
        "print(df.DecileScore.unique())\n",
        "\n",
        "print('')\n",
        "print('Unique ScoreText')\n",
        "df.ScoreText.nunique()\n",
        "print(df.ScoreText.unique())\n",
        "\n",
        "print('')\n",
        "print('Unique AssessmentType')\n",
        "df.RecSupervisionLevel.nunique()\n",
        "print(df.RecSupervisionLevel.unique())\n",
        "\n",
        "print('')\n",
        "print('AssessmentType IsCompleted')\n",
        "df.IsCompleted.nunique()\n",
        "print(df.IsCompleted.unique())\n",
        "\n",
        "print('')\n",
        "print('Unique IsDeleted')\n",
        "df.IsDeleted.nunique()\n",
        "print(df.IsDeleted.unique())\n",
        "\n",
        "print('')\n",
        "print('Unique Scale_ID')\n",
        "df.Scale_ID.nunique()\n",
        "print(df.Scale_ID.unique())\n",
        "\n",
        "print('')\n",
        "print('Unique DisplayText')\n",
        "df.DisplayText.nunique()\n",
        "print(df.DisplayText.unique())"
      ],
      "execution_count": 45,
      "outputs": [
        {
          "output_type": "stream",
          "text": [
            "Unique Person_ID\n"
          ],
          "name": "stdout"
        },
        {
          "output_type": "execute_result",
          "data": {
            "text/plain": [
              "18610"
            ]
          },
          "metadata": {
            "tags": []
          },
          "execution_count": 45
        },
        {
          "output_type": "stream",
          "text": [
            "\n",
            "Unique AssessmentID\n"
          ],
          "name": "stdout"
        },
        {
          "output_type": "execute_result",
          "data": {
            "text/plain": [
              "20281"
            ]
          },
          "metadata": {
            "tags": []
          },
          "execution_count": 45
        },
        {
          "output_type": "stream",
          "text": [
            "\n",
            "Unique Case_ID\n"
          ],
          "name": "stdout"
        },
        {
          "output_type": "execute_result",
          "data": {
            "text/plain": [
              "19530"
            ]
          },
          "metadata": {
            "tags": []
          },
          "execution_count": 45
        },
        {
          "output_type": "stream",
          "text": [
            "\n",
            "Unique Agency_Text\n"
          ],
          "name": "stdout"
        },
        {
          "output_type": "execute_result",
          "data": {
            "text/plain": [
              "4"
            ]
          },
          "metadata": {
            "tags": []
          },
          "execution_count": 45
        },
        {
          "output_type": "stream",
          "text": [
            "['PRETRIAL' 'Probation' 'DRRD' 'Broward County']\n",
            "\n",
            "Unique Sex_Code_Text\n"
          ],
          "name": "stdout"
        },
        {
          "output_type": "execute_result",
          "data": {
            "text/plain": [
              "2"
            ]
          },
          "metadata": {
            "tags": []
          },
          "execution_count": 45
        },
        {
          "output_type": "stream",
          "text": [
            "['Male' 'Female']\n",
            "\n",
            "Unique Ethnic_Code_Text\n"
          ],
          "name": "stdout"
        },
        {
          "output_type": "execute_result",
          "data": {
            "text/plain": [
              "9"
            ]
          },
          "metadata": {
            "tags": []
          },
          "execution_count": 45
        },
        {
          "output_type": "stream",
          "text": [
            "['Caucasian' 'African-American' 'Hispanic' 'Other' 'Asian' 'African-Am'\n",
            " 'Native American' 'Oriental' 'Arabic']\n",
            "\n",
            "Unique ScaleSet_ID\n"
          ],
          "name": "stdout"
        },
        {
          "output_type": "execute_result",
          "data": {
            "text/plain": [
              "2"
            ]
          },
          "metadata": {
            "tags": []
          },
          "execution_count": 45
        },
        {
          "output_type": "stream",
          "text": [
            "[22 17]\n",
            "\n",
            "Unique ScaleSet\n"
          ],
          "name": "stdout"
        },
        {
          "output_type": "execute_result",
          "data": {
            "text/plain": [
              "2"
            ]
          },
          "metadata": {
            "tags": []
          },
          "execution_count": 45
        },
        {
          "output_type": "stream",
          "text": [
            "['Risk and Prescreen' 'All Scales']\n",
            "\n",
            "Unique AssessmentReason\n"
          ],
          "name": "stdout"
        },
        {
          "output_type": "execute_result",
          "data": {
            "text/plain": [
              "1"
            ]
          },
          "metadata": {
            "tags": []
          },
          "execution_count": 45
        },
        {
          "output_type": "stream",
          "text": [
            "['Intake']\n",
            "\n",
            "Unique Language\n"
          ],
          "name": "stdout"
        },
        {
          "output_type": "execute_result",
          "data": {
            "text/plain": [
              "2"
            ]
          },
          "metadata": {
            "tags": []
          },
          "execution_count": 45
        },
        {
          "output_type": "stream",
          "text": [
            "['English' 'Spanish']\n",
            "\n",
            "Unique LegalStatus\n"
          ],
          "name": "stdout"
        },
        {
          "output_type": "execute_result",
          "data": {
            "text/plain": [
              "7"
            ]
          },
          "metadata": {
            "tags": []
          },
          "execution_count": 45
        },
        {
          "output_type": "stream",
          "text": [
            "['Pretrial' 'Post Sentence' 'Conditional Release' 'Other'\n",
            " 'Probation Violator' 'Parole Violator' 'Deferred Sentencing']\n",
            "\n",
            "Unique Custody Status\n"
          ],
          "name": "stdout"
        },
        {
          "output_type": "execute_result",
          "data": {
            "text/plain": [
              "6"
            ]
          },
          "metadata": {
            "tags": []
          },
          "execution_count": 45
        },
        {
          "output_type": "stream",
          "text": [
            "['Jail Inmate' 'Probation' 'Pretrial Defendant' 'Residential Program'\n",
            " 'Prison Inmate' 'Parole']\n",
            "\n",
            "Unique Maritial Status\n"
          ],
          "name": "stdout"
        },
        {
          "output_type": "execute_result",
          "data": {
            "text/plain": [
              "7"
            ]
          },
          "metadata": {
            "tags": []
          },
          "execution_count": 45
        },
        {
          "output_type": "stream",
          "text": [
            "['Single' 'Married' 'Significant Other' 'Divorced' 'Separated' 'Widowed'\n",
            " 'Unknown']\n",
            "\n",
            "Unique RecSupervisionLevel\n"
          ],
          "name": "stdout"
        },
        {
          "output_type": "execute_result",
          "data": {
            "text/plain": [
              "4"
            ]
          },
          "metadata": {
            "tags": []
          },
          "execution_count": 45
        },
        {
          "output_type": "stream",
          "text": [
            "[1 4 2 3]\n",
            "\n",
            "Unique RecSupervisionLevelText\n"
          ],
          "name": "stdout"
        },
        {
          "output_type": "execute_result",
          "data": {
            "text/plain": [
              "4"
            ]
          },
          "metadata": {
            "tags": []
          },
          "execution_count": 45
        },
        {
          "output_type": "stream",
          "text": [
            "['Low' 'High' 'Medium' 'Medium with Override Consideration']\n",
            "\n",
            "Unique RawScore\n"
          ],
          "name": "stdout"
        },
        {
          "output_type": "execute_result",
          "data": {
            "text/plain": [
              "659"
            ]
          },
          "metadata": {
            "tags": []
          },
          "execution_count": 45
        },
        {
          "output_type": "stream",
          "text": [
            "\n",
            "Unique DecileScore\n"
          ],
          "name": "stdout"
        },
        {
          "output_type": "execute_result",
          "data": {
            "text/plain": [
              "11"
            ]
          },
          "metadata": {
            "tags": []
          },
          "execution_count": 45
        },
        {
          "output_type": "stream",
          "text": [
            "[ 4  2  1  3  8  7  6 10  9  5 -1]\n",
            "\n",
            "Unique ScoreText\n"
          ],
          "name": "stdout"
        },
        {
          "output_type": "execute_result",
          "data": {
            "text/plain": [
              "3"
            ]
          },
          "metadata": {
            "tags": []
          },
          "execution_count": 45
        },
        {
          "output_type": "stream",
          "text": [
            "['Low' 'High' 'Medium' nan]\n",
            "\n",
            "Unique AssessmentType\n"
          ],
          "name": "stdout"
        },
        {
          "output_type": "execute_result",
          "data": {
            "text/plain": [
              "4"
            ]
          },
          "metadata": {
            "tags": []
          },
          "execution_count": 45
        },
        {
          "output_type": "stream",
          "text": [
            "[1 4 2 3]\n",
            "\n",
            "AssessmentType IsCompleted\n"
          ],
          "name": "stdout"
        },
        {
          "output_type": "execute_result",
          "data": {
            "text/plain": [
              "1"
            ]
          },
          "metadata": {
            "tags": []
          },
          "execution_count": 45
        },
        {
          "output_type": "stream",
          "text": [
            "[1]\n",
            "\n",
            "Unique IsDeleted\n"
          ],
          "name": "stdout"
        },
        {
          "output_type": "execute_result",
          "data": {
            "text/plain": [
              "1"
            ]
          },
          "metadata": {
            "tags": []
          },
          "execution_count": 45
        },
        {
          "output_type": "stream",
          "text": [
            "[0]\n",
            "\n",
            "Unique Scale_ID\n"
          ],
          "name": "stdout"
        },
        {
          "output_type": "execute_result",
          "data": {
            "text/plain": [
              "3"
            ]
          },
          "metadata": {
            "tags": []
          },
          "execution_count": 45
        },
        {
          "output_type": "stream",
          "text": [
            "[ 7  8 18]\n",
            "\n",
            "Unique DisplayText\n"
          ],
          "name": "stdout"
        },
        {
          "output_type": "execute_result",
          "data": {
            "text/plain": [
              "3"
            ]
          },
          "metadata": {
            "tags": []
          },
          "execution_count": 45
        },
        {
          "output_type": "stream",
          "text": [
            "['Risk of Violence' 'Risk of Recidivism' 'Risk of Failure to Appear']\n"
          ],
          "name": "stdout"
        }
      ]
    },
    {
      "cell_type": "markdown",
      "metadata": {
        "id": "Ar9g-IYQJuxc",
        "colab_type": "text"
      },
      "source": [
        "What are <ol><li>Scale Set ID<li>Scale Set<li>RawScore\t<li>DecileScore\t<li>ScoreText\t<li>AssessmentType\t<li>IsCompleted\t<li>IsDeleted"
      ]
    },
    {
      "cell_type": "markdown",
      "metadata": {
        "id": "_XiOd9otRvi4",
        "colab_type": "text"
      },
      "source": [
        "**SCREENING DATE** - Starts at Jan 01, 2013 and Ends at September 09, 2014 i.e. 1 Years 9 Months of data."
      ]
    },
    {
      "cell_type": "code",
      "metadata": {
        "id": "Zha0bW6FJneR",
        "colab_type": "code",
        "colab": {
          "base_uri": "https://localhost:8080/",
          "height": 85
        },
        "outputId": "4d3c5bd2-3cb1-431e-ba52-a7a1db3967f6"
      },
      "source": [
        "#Screening Data\n",
        "df.Screening_Date.sort_values().head(1)\n",
        "print('')\n",
        "df.Screening_Date.sort_values(ascending=False).head(1)"
      ],
      "execution_count": 61,
      "outputs": [
        {
          "output_type": "execute_result",
          "data": {
            "text/plain": [
              "0    1/1/13 0:00\n",
              "Name: Screening_Date, dtype: object"
            ]
          },
          "metadata": {
            "tags": []
          },
          "execution_count": 61
        },
        {
          "output_type": "stream",
          "text": [
            "\n"
          ],
          "name": "stdout"
        },
        {
          "output_type": "execute_result",
          "data": {
            "text/plain": [
              "52383    9/9/14 0:00\n",
              "Name: Screening_Date, dtype: object"
            ]
          },
          "metadata": {
            "tags": []
          },
          "execution_count": 61
        }
      ]
    },
    {
      "cell_type": "code",
      "metadata": {
        "id": "xt1NSljpRbbG",
        "colab_type": "code",
        "colab": {}
      },
      "source": [
        ""
      ],
      "execution_count": 0,
      "outputs": []
    },
    {
      "cell_type": "code",
      "metadata": {
        "id": "ArfBvvLwSYJC",
        "colab_type": "code",
        "colab": {}
      },
      "source": [
        ""
      ],
      "execution_count": 0,
      "outputs": []
    }
  ]
}