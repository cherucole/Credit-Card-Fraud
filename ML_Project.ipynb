{
  "nbformat": 4,
  "nbformat_minor": 0,
  "metadata": {
    "colab": {
      "name": "ML_Project.ipynb",
      "version": "0.3.2",
      "provenance": [],
      "collapsed_sections": [],
      "include_colab_link": true
    },
    "kernelspec": {
      "name": "python3",
      "display_name": "Python 3"
    },
    "accelerator": "GPU"
  },
  "cells": [
    {
      "cell_type": "markdown",
      "metadata": {
        "id": "view-in-github",
        "colab_type": "text"
      },
      "source": [
        "<a href=\"https://colab.research.google.com/github/kpratikin/Machine_Learning_Techniques/blob/master/ML_Project.ipynb\" target=\"_parent\"><img src=\"https://colab.research.google.com/assets/colab-badge.svg\" alt=\"Open In Colab\"/></a>"
      ]
    },
    {
      "cell_type": "code",
      "metadata": {
        "id": "JVzCEVYXGXL5",
        "colab_type": "code",
        "outputId": "9b079d7d-be47-43c4-aa83-cb14a73549ac",
        "colab": {
          "base_uri": "https://localhost:8080/",
          "height": 125
        }
      },
      "source": [
        "from google.colab import drive\n",
        "drive.mount('/content/gdrive')"
      ],
      "execution_count": 0,
      "outputs": [
        {
          "output_type": "stream",
          "text": [
            "Go to this URL in a browser: https://accounts.google.com/o/oauth2/auth?client_id=947318989803-6bn6qk8qdgf4n4g3pfee6491hc0brc4i.apps.googleusercontent.com&redirect_uri=urn%3Aietf%3Awg%3Aoauth%3A2.0%3Aoob&scope=email%20https%3A%2F%2Fwww.googleapis.com%2Fauth%2Fdocs.test%20https%3A%2F%2Fwww.googleapis.com%2Fauth%2Fdrive%20https%3A%2F%2Fwww.googleapis.com%2Fauth%2Fdrive.photos.readonly%20https%3A%2F%2Fwww.googleapis.com%2Fauth%2Fpeopleapi.readonly&response_type=code\n",
            "\n",
            "Enter your authorization code:\n",
            "··········\n",
            "Mounted at /content/gdrive\n"
          ],
          "name": "stdout"
        }
      ]
    },
    {
      "cell_type": "code",
      "metadata": {
        "id": "788_QiUkGnSI",
        "colab_type": "code",
        "outputId": "1818019d-6a1f-41e8-c3c7-c873592f50a4",
        "colab": {
          "base_uri": "https://localhost:8080/",
          "height": 34
        }
      },
      "source": [
        "!ls \"/content/gdrive/Team Drives/Machine Learning with R/Project/Data/\""
      ],
      "execution_count": 0,
      "outputs": [
        {
          "output_type": "stream",
          "text": [
            "compas-scores-raw.csv  compas-scores-two-years.csv\n"
          ],
          "name": "stdout"
        }
      ]
    },
    {
      "cell_type": "code",
      "metadata": {
        "id": "hhX-9_hOGY2b",
        "colab_type": "code",
        "colab": {}
      },
      "source": [
        "import pandas as pd\n",
        "import seaborn as sns\n",
        "\n",
        "# filter dplyr warnings\n",
        "%load_ext rpy2.ipython\n",
        "import warnings\n",
        "warnings.filterwarnings('ignore')\n",
        "\n",
        "# print all the outputs in a cell\n",
        "from IPython.core.interactiveshell import InteractiveShell\n",
        "InteractiveShell.ast_node_interactivity = \"all\""
      ],
      "execution_count": 0,
      "outputs": []
    },
    {
      "cell_type": "code",
      "metadata": {
        "id": "ob1TdJOwHEeL",
        "colab_type": "code",
        "outputId": "3f02306a-4e48-4ed8-ce61-61995b8310d8",
        "colab": {
          "base_uri": "https://localhost:8080/",
          "height": 317
        }
      },
      "source": [
        "df = pd.read_csv(\"/content/gdrive/Team Drives/Machine Learning with R/Project/Data/compas-scores-raw.csv\")\n",
        "df.head(5)"
      ],
      "execution_count": 0,
      "outputs": [
        {
          "output_type": "execute_result",
          "data": {
            "text/html": [
              "<div>\n",
              "<style scoped>\n",
              "    .dataframe tbody tr th:only-of-type {\n",
              "        vertical-align: middle;\n",
              "    }\n",
              "\n",
              "    .dataframe tbody tr th {\n",
              "        vertical-align: top;\n",
              "    }\n",
              "\n",
              "    .dataframe thead th {\n",
              "        text-align: right;\n",
              "    }\n",
              "</style>\n",
              "<table border=\"1\" class=\"dataframe\">\n",
              "  <thead>\n",
              "    <tr style=\"text-align: right;\">\n",
              "      <th></th>\n",
              "      <th>Person_ID</th>\n",
              "      <th>AssessmentID</th>\n",
              "      <th>Case_ID</th>\n",
              "      <th>Agency_Text</th>\n",
              "      <th>LastName</th>\n",
              "      <th>FirstName</th>\n",
              "      <th>MiddleName</th>\n",
              "      <th>Sex_Code_Text</th>\n",
              "      <th>Ethnic_Code_Text</th>\n",
              "      <th>DateOfBirth</th>\n",
              "      <th>ScaleSet_ID</th>\n",
              "      <th>ScaleSet</th>\n",
              "      <th>AssessmentReason</th>\n",
              "      <th>Language</th>\n",
              "      <th>LegalStatus</th>\n",
              "      <th>CustodyStatus</th>\n",
              "      <th>MaritalStatus</th>\n",
              "      <th>Screening_Date</th>\n",
              "      <th>RecSupervisionLevel</th>\n",
              "      <th>RecSupervisionLevelText</th>\n",
              "      <th>Scale_ID</th>\n",
              "      <th>DisplayText</th>\n",
              "      <th>RawScore</th>\n",
              "      <th>DecileScore</th>\n",
              "      <th>ScoreText</th>\n",
              "      <th>AssessmentType</th>\n",
              "      <th>IsCompleted</th>\n",
              "      <th>IsDeleted</th>\n",
              "    </tr>\n",
              "  </thead>\n",
              "  <tbody>\n",
              "    <tr>\n",
              "      <th>0</th>\n",
              "      <td>50844</td>\n",
              "      <td>57167</td>\n",
              "      <td>51950</td>\n",
              "      <td>PRETRIAL</td>\n",
              "      <td>Fisher</td>\n",
              "      <td>Kevin</td>\n",
              "      <td>NaN</td>\n",
              "      <td>Male</td>\n",
              "      <td>Caucasian</td>\n",
              "      <td>12/05/92</td>\n",
              "      <td>22</td>\n",
              "      <td>Risk and Prescreen</td>\n",
              "      <td>Intake</td>\n",
              "      <td>English</td>\n",
              "      <td>Pretrial</td>\n",
              "      <td>Jail Inmate</td>\n",
              "      <td>Single</td>\n",
              "      <td>1/1/13 0:00</td>\n",
              "      <td>1</td>\n",
              "      <td>Low</td>\n",
              "      <td>7</td>\n",
              "      <td>Risk of Violence</td>\n",
              "      <td>-2.08</td>\n",
              "      <td>4</td>\n",
              "      <td>Low</td>\n",
              "      <td>New</td>\n",
              "      <td>1</td>\n",
              "      <td>0</td>\n",
              "    </tr>\n",
              "    <tr>\n",
              "      <th>1</th>\n",
              "      <td>50844</td>\n",
              "      <td>57167</td>\n",
              "      <td>51950</td>\n",
              "      <td>PRETRIAL</td>\n",
              "      <td>Fisher</td>\n",
              "      <td>Kevin</td>\n",
              "      <td>NaN</td>\n",
              "      <td>Male</td>\n",
              "      <td>Caucasian</td>\n",
              "      <td>12/05/92</td>\n",
              "      <td>22</td>\n",
              "      <td>Risk and Prescreen</td>\n",
              "      <td>Intake</td>\n",
              "      <td>English</td>\n",
              "      <td>Pretrial</td>\n",
              "      <td>Jail Inmate</td>\n",
              "      <td>Single</td>\n",
              "      <td>1/1/13 0:00</td>\n",
              "      <td>1</td>\n",
              "      <td>Low</td>\n",
              "      <td>8</td>\n",
              "      <td>Risk of Recidivism</td>\n",
              "      <td>-1.06</td>\n",
              "      <td>2</td>\n",
              "      <td>Low</td>\n",
              "      <td>New</td>\n",
              "      <td>1</td>\n",
              "      <td>0</td>\n",
              "    </tr>\n",
              "    <tr>\n",
              "      <th>2</th>\n",
              "      <td>50844</td>\n",
              "      <td>57167</td>\n",
              "      <td>51950</td>\n",
              "      <td>PRETRIAL</td>\n",
              "      <td>Fisher</td>\n",
              "      <td>Kevin</td>\n",
              "      <td>NaN</td>\n",
              "      <td>Male</td>\n",
              "      <td>Caucasian</td>\n",
              "      <td>12/05/92</td>\n",
              "      <td>22</td>\n",
              "      <td>Risk and Prescreen</td>\n",
              "      <td>Intake</td>\n",
              "      <td>English</td>\n",
              "      <td>Pretrial</td>\n",
              "      <td>Jail Inmate</td>\n",
              "      <td>Single</td>\n",
              "      <td>1/1/13 0:00</td>\n",
              "      <td>1</td>\n",
              "      <td>Low</td>\n",
              "      <td>18</td>\n",
              "      <td>Risk of Failure to Appear</td>\n",
              "      <td>15.00</td>\n",
              "      <td>1</td>\n",
              "      <td>Low</td>\n",
              "      <td>New</td>\n",
              "      <td>1</td>\n",
              "      <td>0</td>\n",
              "    </tr>\n",
              "    <tr>\n",
              "      <th>3</th>\n",
              "      <td>50848</td>\n",
              "      <td>57174</td>\n",
              "      <td>51956</td>\n",
              "      <td>PRETRIAL</td>\n",
              "      <td>KENDALL</td>\n",
              "      <td>KEVIN</td>\n",
              "      <td>NaN</td>\n",
              "      <td>Male</td>\n",
              "      <td>Caucasian</td>\n",
              "      <td>09/16/84</td>\n",
              "      <td>22</td>\n",
              "      <td>Risk and Prescreen</td>\n",
              "      <td>Intake</td>\n",
              "      <td>English</td>\n",
              "      <td>Pretrial</td>\n",
              "      <td>Jail Inmate</td>\n",
              "      <td>Married</td>\n",
              "      <td>1/1/13 0:00</td>\n",
              "      <td>1</td>\n",
              "      <td>Low</td>\n",
              "      <td>7</td>\n",
              "      <td>Risk of Violence</td>\n",
              "      <td>-2.84</td>\n",
              "      <td>2</td>\n",
              "      <td>Low</td>\n",
              "      <td>New</td>\n",
              "      <td>1</td>\n",
              "      <td>0</td>\n",
              "    </tr>\n",
              "    <tr>\n",
              "      <th>4</th>\n",
              "      <td>50848</td>\n",
              "      <td>57174</td>\n",
              "      <td>51956</td>\n",
              "      <td>PRETRIAL</td>\n",
              "      <td>KENDALL</td>\n",
              "      <td>KEVIN</td>\n",
              "      <td>NaN</td>\n",
              "      <td>Male</td>\n",
              "      <td>Caucasian</td>\n",
              "      <td>09/16/84</td>\n",
              "      <td>22</td>\n",
              "      <td>Risk and Prescreen</td>\n",
              "      <td>Intake</td>\n",
              "      <td>English</td>\n",
              "      <td>Pretrial</td>\n",
              "      <td>Jail Inmate</td>\n",
              "      <td>Married</td>\n",
              "      <td>1/1/13 0:00</td>\n",
              "      <td>1</td>\n",
              "      <td>Low</td>\n",
              "      <td>8</td>\n",
              "      <td>Risk of Recidivism</td>\n",
              "      <td>-1.50</td>\n",
              "      <td>1</td>\n",
              "      <td>Low</td>\n",
              "      <td>New</td>\n",
              "      <td>1</td>\n",
              "      <td>0</td>\n",
              "    </tr>\n",
              "  </tbody>\n",
              "</table>\n",
              "</div>"
            ],
            "text/plain": [
              "   Person_ID  AssessmentID  Case_ID  ... AssessmentType IsCompleted IsDeleted\n",
              "0      50844         57167    51950  ...            New           1         0\n",
              "1      50844         57167    51950  ...            New           1         0\n",
              "2      50844         57167    51950  ...            New           1         0\n",
              "3      50848         57174    51956  ...            New           1         0\n",
              "4      50848         57174    51956  ...            New           1         0\n",
              "\n",
              "[5 rows x 28 columns]"
            ]
          },
          "metadata": {
            "tags": []
          },
          "execution_count": 4
        }
      ]
    },
    {
      "cell_type": "code",
      "metadata": {
        "id": "y4GitQVuHOYz",
        "colab_type": "code",
        "outputId": "c85789a8-bd13-4ba4-e132-24abdfc0d5f4",
        "colab": {
          "base_uri": "https://localhost:8080/",
          "height": 158
        }
      },
      "source": [
        "df.columns"
      ],
      "execution_count": 0,
      "outputs": [
        {
          "output_type": "execute_result",
          "data": {
            "text/plain": [
              "Index(['Person_ID', 'AssessmentID', 'Case_ID', 'Agency_Text', 'LastName',\n",
              "       'FirstName', 'MiddleName', 'Sex_Code_Text', 'Ethnic_Code_Text',\n",
              "       'DateOfBirth', 'ScaleSet_ID', 'ScaleSet', 'AssessmentReason',\n",
              "       'Language', 'LegalStatus', 'CustodyStatus', 'MaritalStatus',\n",
              "       'Screening_Date', 'RecSupervisionLevel', 'RecSupervisionLevelText',\n",
              "       'Scale_ID', 'DisplayText', 'RawScore', 'DecileScore', 'ScoreText',\n",
              "       'AssessmentType', 'IsCompleted', 'IsDeleted'],\n",
              "      dtype='object')"
            ]
          },
          "metadata": {
            "tags": []
          },
          "execution_count": 5
        }
      ]
    },
    {
      "cell_type": "markdown",
      "metadata": {
        "id": "AVtWEN-9IVph",
        "colab_type": "text"
      },
      "source": [
        "**DATA EXPLORATION**"
      ]
    },
    {
      "cell_type": "markdown",
      "metadata": {
        "id": "lkLZS0A5I4NP",
        "colab_type": "text"
      },
      "source": [
        "Total number of records - 60,843 records"
      ]
    },
    {
      "cell_type": "code",
      "metadata": {
        "id": "2G4ksDenI7nH",
        "colab_type": "code",
        "outputId": "1ace4e6a-65e9-4593-89e0-ffb5546db86e",
        "colab": {
          "base_uri": "https://localhost:8080/",
          "height": 34
        }
      },
      "source": [
        "df.shape"
      ],
      "execution_count": 0,
      "outputs": [
        {
          "output_type": "execute_result",
          "data": {
            "text/plain": [
              "(60843, 28)"
            ]
          },
          "metadata": {
            "tags": []
          },
          "execution_count": 6
        }
      ]
    },
    {
      "cell_type": "markdown",
      "metadata": {
        "id": "d-AfF_K7UPJV",
        "colab_type": "text"
      },
      "source": [
        "Columns - Majority of the columns are categorical."
      ]
    },
    {
      "cell_type": "code",
      "metadata": {
        "id": "kS_2M14OHvhO",
        "colab_type": "code",
        "outputId": "f3625444-8064-4291-c89f-082e53b4ec5e",
        "colab": {
          "base_uri": "https://localhost:8080/",
          "height": 1225
        }
      },
      "source": [
        "print('Person_ID')\n",
        "df.Person_ID.nunique()\n",
        "\n",
        "print('')\n",
        "print('AssessmentID')\n",
        "df.AssessmentID.nunique()\n",
        "\n",
        "print('')\n",
        "print('Case_ID')\n",
        "df.Case_ID.nunique()\n",
        "\n",
        "print('')\n",
        "print('Agency_Text')\n",
        "df.Agency_Text.nunique()\n",
        "print(df.Agency_Text.unique())\n",
        "\n",
        "print('')\n",
        "print('Sex_Code_Text')\n",
        "df.Sex_Code_Text.nunique()\n",
        "print(df.Sex_Code_Text.unique())\n",
        "      \n",
        "print('')\n",
        "print('Ethnic_Code_Text')\n",
        "df.Ethnic_Code_Text.nunique()\n",
        "print(df.Ethnic_Code_Text.unique())\n",
        "\n",
        "print('')\n",
        "print('ScaleSet_ID')\n",
        "df.ScaleSet_ID.nunique()\n",
        "print(df.ScaleSet_ID.unique())\n",
        "\n",
        "print('')\n",
        "print('ScaleSet')\n",
        "df.ScaleSet.nunique()\n",
        "print(df.ScaleSet.unique())\n",
        "\n",
        "print('')\n",
        "print('AssessmentReason')\n",
        "df.AssessmentReason.nunique()\n",
        "print(df.AssessmentReason.unique())\n",
        "\n",
        "print('')\n",
        "print('Language')\n",
        "df.Language.nunique()\n",
        "print(df.Language.unique())\n",
        "\n",
        "print('')\n",
        "print('LegalStatus')\n",
        "df.LegalStatus.nunique()\n",
        "print(df.LegalStatus.unique())\n",
        "\n",
        "print('')\n",
        "print('Custody Status')\n",
        "df.CustodyStatus.nunique()\n",
        "print(df.CustodyStatus.unique())\n",
        "\n",
        "print('')\n",
        "print('Maritial Status')\n",
        "df.MaritalStatus.nunique()\n",
        "print(df.MaritalStatus.unique())\n",
        "\n",
        "#print('')\n",
        "#print('Unique Screening_Date')\n",
        "#df.Screening_Date.nunique()\n",
        "\n",
        "print('')\n",
        "print('RecSupervisionLevel')\n",
        "df.RecSupervisionLevel.nunique()\n",
        "print(df.RecSupervisionLevel.unique())\n",
        "\n",
        "print('')\n",
        "print('RecSupervisionLevelText')\n",
        "df.RecSupervisionLevelText.nunique()\n",
        "print(df.RecSupervisionLevelText.unique())\n",
        "\n",
        "print('')\n",
        "print('RawScore')\n",
        "df.RawScore.nunique()\n",
        "#print(df.RawScore.unique())\n",
        "\n",
        "print('')\n",
        "print('DecileScore')\n",
        "df.DecileScore.nunique()\n",
        "print(df.DecileScore.unique())\n",
        "\n",
        "print('')\n",
        "print('ScoreText')\n",
        "df.ScoreText.nunique()\n",
        "print(df.ScoreText.unique())\n",
        "\n",
        "print('')\n",
        "print('AssessmentType')\n",
        "df.AssessmentType.nunique()\n",
        "print(df.AssessmentType.unique())\n",
        "\n",
        "print('')\n",
        "print('IsCompleted')\n",
        "df.IsCompleted.nunique()\n",
        "print(df.IsCompleted.unique())\n",
        "\n",
        "print('')\n",
        "print('IsDeleted')\n",
        "df.IsDeleted.nunique()\n",
        "print(df.IsDeleted.unique())\n",
        "\n",
        "print('')\n",
        "print('Scale_ID')\n",
        "df.Scale_ID.nunique()\n",
        "print(df.Scale_ID.unique())\n",
        "\n",
        "print('')\n",
        "print('DisplayText')\n",
        "df.DisplayText.nunique()\n",
        "print(df.DisplayText.unique())"
      ],
      "execution_count": 0,
      "outputs": [
        {
          "output_type": "stream",
          "text": [
            "Person_ID\n"
          ],
          "name": "stdout"
        },
        {
          "output_type": "execute_result",
          "data": {
            "text/plain": [
              "18610"
            ]
          },
          "metadata": {
            "tags": []
          },
          "execution_count": 7
        },
        {
          "output_type": "stream",
          "text": [
            "\n",
            "AssessmentID\n"
          ],
          "name": "stdout"
        },
        {
          "output_type": "execute_result",
          "data": {
            "text/plain": [
              "20281"
            ]
          },
          "metadata": {
            "tags": []
          },
          "execution_count": 7
        },
        {
          "output_type": "stream",
          "text": [
            "\n",
            "Case_ID\n"
          ],
          "name": "stdout"
        },
        {
          "output_type": "execute_result",
          "data": {
            "text/plain": [
              "19530"
            ]
          },
          "metadata": {
            "tags": []
          },
          "execution_count": 7
        },
        {
          "output_type": "stream",
          "text": [
            "\n",
            "Agency_Text\n"
          ],
          "name": "stdout"
        },
        {
          "output_type": "execute_result",
          "data": {
            "text/plain": [
              "4"
            ]
          },
          "metadata": {
            "tags": []
          },
          "execution_count": 7
        },
        {
          "output_type": "stream",
          "text": [
            "['PRETRIAL' 'Probation' 'DRRD' 'Broward County']\n",
            "\n",
            "Sex_Code_Text\n"
          ],
          "name": "stdout"
        },
        {
          "output_type": "execute_result",
          "data": {
            "text/plain": [
              "2"
            ]
          },
          "metadata": {
            "tags": []
          },
          "execution_count": 7
        },
        {
          "output_type": "stream",
          "text": [
            "['Male' 'Female']\n",
            "\n",
            "Ethnic_Code_Text\n"
          ],
          "name": "stdout"
        },
        {
          "output_type": "execute_result",
          "data": {
            "text/plain": [
              "9"
            ]
          },
          "metadata": {
            "tags": []
          },
          "execution_count": 7
        },
        {
          "output_type": "stream",
          "text": [
            "['Caucasian' 'African-American' 'Hispanic' 'Other' 'Asian' 'African-Am'\n",
            " 'Native American' 'Oriental' 'Arabic']\n",
            "\n",
            "ScaleSet_ID\n"
          ],
          "name": "stdout"
        },
        {
          "output_type": "execute_result",
          "data": {
            "text/plain": [
              "2"
            ]
          },
          "metadata": {
            "tags": []
          },
          "execution_count": 7
        },
        {
          "output_type": "stream",
          "text": [
            "[22 17]\n",
            "\n",
            "ScaleSet\n"
          ],
          "name": "stdout"
        },
        {
          "output_type": "execute_result",
          "data": {
            "text/plain": [
              "2"
            ]
          },
          "metadata": {
            "tags": []
          },
          "execution_count": 7
        },
        {
          "output_type": "stream",
          "text": [
            "['Risk and Prescreen' 'All Scales']\n",
            "\n",
            "AssessmentReason\n"
          ],
          "name": "stdout"
        },
        {
          "output_type": "execute_result",
          "data": {
            "text/plain": [
              "1"
            ]
          },
          "metadata": {
            "tags": []
          },
          "execution_count": 7
        },
        {
          "output_type": "stream",
          "text": [
            "['Intake']\n",
            "\n",
            "Language\n"
          ],
          "name": "stdout"
        },
        {
          "output_type": "execute_result",
          "data": {
            "text/plain": [
              "2"
            ]
          },
          "metadata": {
            "tags": []
          },
          "execution_count": 7
        },
        {
          "output_type": "stream",
          "text": [
            "['English' 'Spanish']\n",
            "\n",
            "LegalStatus\n"
          ],
          "name": "stdout"
        },
        {
          "output_type": "execute_result",
          "data": {
            "text/plain": [
              "7"
            ]
          },
          "metadata": {
            "tags": []
          },
          "execution_count": 7
        },
        {
          "output_type": "stream",
          "text": [
            "['Pretrial' 'Post Sentence' 'Conditional Release' 'Other'\n",
            " 'Probation Violator' 'Parole Violator' 'Deferred Sentencing']\n",
            "\n",
            "Custody Status\n"
          ],
          "name": "stdout"
        },
        {
          "output_type": "execute_result",
          "data": {
            "text/plain": [
              "6"
            ]
          },
          "metadata": {
            "tags": []
          },
          "execution_count": 7
        },
        {
          "output_type": "stream",
          "text": [
            "['Jail Inmate' 'Probation' 'Pretrial Defendant' 'Residential Program'\n",
            " 'Prison Inmate' 'Parole']\n",
            "\n",
            "Maritial Status\n"
          ],
          "name": "stdout"
        },
        {
          "output_type": "execute_result",
          "data": {
            "text/plain": [
              "7"
            ]
          },
          "metadata": {
            "tags": []
          },
          "execution_count": 7
        },
        {
          "output_type": "stream",
          "text": [
            "['Single' 'Married' 'Significant Other' 'Divorced' 'Separated' 'Widowed'\n",
            " 'Unknown']\n",
            "\n",
            "RecSupervisionLevel\n"
          ],
          "name": "stdout"
        },
        {
          "output_type": "execute_result",
          "data": {
            "text/plain": [
              "4"
            ]
          },
          "metadata": {
            "tags": []
          },
          "execution_count": 7
        },
        {
          "output_type": "stream",
          "text": [
            "[1 4 2 3]\n",
            "\n",
            "RecSupervisionLevelText\n"
          ],
          "name": "stdout"
        },
        {
          "output_type": "execute_result",
          "data": {
            "text/plain": [
              "4"
            ]
          },
          "metadata": {
            "tags": []
          },
          "execution_count": 7
        },
        {
          "output_type": "stream",
          "text": [
            "['Low' 'High' 'Medium' 'Medium with Override Consideration']\n",
            "\n",
            "RawScore\n"
          ],
          "name": "stdout"
        },
        {
          "output_type": "execute_result",
          "data": {
            "text/plain": [
              "659"
            ]
          },
          "metadata": {
            "tags": []
          },
          "execution_count": 7
        },
        {
          "output_type": "stream",
          "text": [
            "\n",
            "DecileScore\n"
          ],
          "name": "stdout"
        },
        {
          "output_type": "execute_result",
          "data": {
            "text/plain": [
              "11"
            ]
          },
          "metadata": {
            "tags": []
          },
          "execution_count": 7
        },
        {
          "output_type": "stream",
          "text": [
            "[ 4  2  1  3  8  7  6 10  9  5 -1]\n",
            "\n",
            "ScoreText\n"
          ],
          "name": "stdout"
        },
        {
          "output_type": "execute_result",
          "data": {
            "text/plain": [
              "3"
            ]
          },
          "metadata": {
            "tags": []
          },
          "execution_count": 7
        },
        {
          "output_type": "stream",
          "text": [
            "['Low' 'High' 'Medium' nan]\n",
            "\n",
            "AssessmentType\n"
          ],
          "name": "stdout"
        },
        {
          "output_type": "execute_result",
          "data": {
            "text/plain": [
              "2"
            ]
          },
          "metadata": {
            "tags": []
          },
          "execution_count": 7
        },
        {
          "output_type": "stream",
          "text": [
            "['New' 'Copy']\n",
            "\n",
            "IsCompleted\n"
          ],
          "name": "stdout"
        },
        {
          "output_type": "execute_result",
          "data": {
            "text/plain": [
              "1"
            ]
          },
          "metadata": {
            "tags": []
          },
          "execution_count": 7
        },
        {
          "output_type": "stream",
          "text": [
            "[1]\n",
            "\n",
            "IsDeleted\n"
          ],
          "name": "stdout"
        },
        {
          "output_type": "execute_result",
          "data": {
            "text/plain": [
              "1"
            ]
          },
          "metadata": {
            "tags": []
          },
          "execution_count": 7
        },
        {
          "output_type": "stream",
          "text": [
            "[0]\n",
            "\n",
            "Scale_ID\n"
          ],
          "name": "stdout"
        },
        {
          "output_type": "execute_result",
          "data": {
            "text/plain": [
              "3"
            ]
          },
          "metadata": {
            "tags": []
          },
          "execution_count": 7
        },
        {
          "output_type": "stream",
          "text": [
            "[ 7  8 18]\n",
            "\n",
            "DisplayText\n"
          ],
          "name": "stdout"
        },
        {
          "output_type": "execute_result",
          "data": {
            "text/plain": [
              "3"
            ]
          },
          "metadata": {
            "tags": []
          },
          "execution_count": 7
        },
        {
          "output_type": "stream",
          "text": [
            "['Risk of Violence' 'Risk of Recidivism' 'Risk of Failure to Appear']\n"
          ],
          "name": "stdout"
        }
      ]
    },
    {
      "cell_type": "markdown",
      "metadata": {
        "id": "Ar9g-IYQJuxc",
        "colab_type": "text"
      },
      "source": [
        "What are <ol><li>Scale Set ID<li>Scale Set<li>AssessmentType copy means? <li>Legal Status - ['Pretrial' 'Post Sentence' 'Conditional Release' 'Other'\n",
        " 'Probation Violator' 'Parole Violator' 'Deferred Sentencing']<li>Agency_Text - what these agencies do? do we have to consider all the agencies?\n",
        "  </ol>\n",
        "  <br>\n",
        "  <ul><li>RawScore - Dependent Variable\t<li>DecileScore - Convert Raw score to decile score (10 point score)\t<li>ScoreText - Convert decile score to score text - low, medium, high "
      ]
    },
    {
      "cell_type": "markdown",
      "metadata": {
        "id": "_XiOd9otRvi4",
        "colab_type": "text"
      },
      "source": [
        "**SCREENING DATE** - Starts from Jan 01, 2013 and Ends at September 09, 2014 i.e. 21 months (1 Year & 9 Months) of data."
      ]
    },
    {
      "cell_type": "code",
      "metadata": {
        "id": "Zha0bW6FJneR",
        "colab_type": "code",
        "outputId": "5a99a22a-1077-4b2b-de6d-aa0cb2066cf0",
        "colab": {
          "base_uri": "https://localhost:8080/",
          "height": 87
        }
      },
      "source": [
        "#Screening Data\n",
        "df.Screening_Date.sort_values().head(1)\n",
        "print('')\n",
        "df.Screening_Date.sort_values(ascending=False).head(1)"
      ],
      "execution_count": 0,
      "outputs": [
        {
          "output_type": "execute_result",
          "data": {
            "text/plain": [
              "0    1/1/13 0:00\n",
              "Name: Screening_Date, dtype: object"
            ]
          },
          "metadata": {
            "tags": []
          },
          "execution_count": 8
        },
        {
          "output_type": "stream",
          "text": [
            "\n"
          ],
          "name": "stdout"
        },
        {
          "output_type": "execute_result",
          "data": {
            "text/plain": [
              "52383    9/9/14 0:00\n",
              "Name: Screening_Date, dtype: object"
            ]
          },
          "metadata": {
            "tags": []
          },
          "execution_count": 8
        }
      ]
    },
    {
      "cell_type": "markdown",
      "metadata": {
        "id": "xHLs-mkHXZSX",
        "colab_type": "text"
      },
      "source": [
        "Distribution of Raw Score (Dependent Variable) - Bi-modal- There are scores <=1 and >10."
      ]
    },
    {
      "cell_type": "code",
      "metadata": {
        "id": "ph8vBAU0XcaN",
        "colab_type": "code",
        "outputId": "ff837824-c9e9-4d7f-fd2b-638d1ef83755",
        "colab": {
          "base_uri": "https://localhost:8080/",
          "height": 300
        }
      },
      "source": [
        "sns.distplot(df.RawScore,kde=False)"
      ],
      "execution_count": 0,
      "outputs": [
        {
          "output_type": "execute_result",
          "data": {
            "text/plain": [
              "<matplotlib.axes._subplots.AxesSubplot at 0x7fad7e8b49e8>"
            ]
          },
          "metadata": {
            "tags": []
          },
          "execution_count": 9
        },
        {
          "output_type": "display_data",
          "data": {
            "image/png": "[encoded data removed]",
            "text/plain": [
              "<Figure size 432x288 with 1 Axes>"
            ]
          },
          "metadata": {
            "tags": []
          }
        }
      ]
    },
    {
      "cell_type": "markdown",
      "metadata": {
        "id": "sW_TolT6XS_L",
        "colab_type": "text"
      },
      "source": [
        "Distribution of Decile Scores."
      ]
    },
    {
      "cell_type": "code",
      "metadata": {
        "id": "ArfBvvLwSYJC",
        "colab_type": "code",
        "outputId": "92f0d6b4-5a0d-43a7-a351-c8b6b66fe6d8",
        "colab": {
          "base_uri": "https://localhost:8080/",
          "height": 300
        }
      },
      "source": [
        "sns.distplot(df.DecileScore,kde=False)"
      ],
      "execution_count": 0,
      "outputs": [
        {
          "output_type": "execute_result",
          "data": {
            "text/plain": [
              "<matplotlib.axes._subplots.AxesSubplot at 0x7fad7e792828>"
            ]
          },
          "metadata": {
            "tags": []
          },
          "execution_count": 10
        },
        {
          "output_type": "display_data",
          "data": {
            "image/png": "[encoded data removed]",
            "text/plain": [
              "<Figure size 432x288 with 1 Axes>"
            ]
          },
          "metadata": {
            "tags": []
          }
        }
      ]
    },
    {
      "cell_type": "markdown",
      "metadata": {
        "id": "xnFf-3npaLJb",
        "colab_type": "text"
      },
      "source": [
        "Nan Values - Only ScoreText has 45 NAN's, rest of the data are good. We are going to remove names in our analysis."
      ]
    },
    {
      "cell_type": "code",
      "metadata": {
        "id": "dZLA8c4fYqdd",
        "colab_type": "code",
        "outputId": "8bebfbb2-5f84-48c5-9738-c6d380dfd635",
        "colab": {
          "base_uri": "https://localhost:8080/",
          "height": 532
        }
      },
      "source": [
        "df.isna().sum()"
      ],
      "execution_count": 0,
      "outputs": [
        {
          "output_type": "execute_result",
          "data": {
            "text/plain": [
              "Person_ID                      0\n",
              "AssessmentID                   0\n",
              "Case_ID                        0\n",
              "Agency_Text                    0\n",
              "LastName                       0\n",
              "FirstName                      0\n",
              "MiddleName                 45195\n",
              "Sex_Code_Text                  0\n",
              "Ethnic_Code_Text               0\n",
              "DateOfBirth                    0\n",
              "ScaleSet_ID                    0\n",
              "ScaleSet                       0\n",
              "AssessmentReason               0\n",
              "Language                       0\n",
              "LegalStatus                    0\n",
              "CustodyStatus                  0\n",
              "MaritalStatus                  0\n",
              "Screening_Date                 0\n",
              "RecSupervisionLevel            0\n",
              "RecSupervisionLevelText        0\n",
              "Scale_ID                       0\n",
              "DisplayText                    0\n",
              "RawScore                       0\n",
              "DecileScore                    0\n",
              "ScoreText                     45\n",
              "AssessmentType                 0\n",
              "IsCompleted                    0\n",
              "IsDeleted                      0\n",
              "dtype: int64"
            ]
          },
          "metadata": {
            "tags": []
          },
          "execution_count": 11
        }
      ]
    },
    {
      "cell_type": "markdown",
      "metadata": {
        "id": "s3w2VxribSIk",
        "colab_type": "text"
      },
      "source": [
        "Wherever Decile Score is -1, Score text is 'NAN'."
      ]
    },
    {
      "cell_type": "code",
      "metadata": {
        "id": "4WqqvJ7VY9je",
        "colab_type": "code",
        "outputId": "34a36c2c-9125-44ae-fe2e-ac38c9780438",
        "colab": {
          "base_uri": "https://localhost:8080/",
          "height": 230
        }
      },
      "source": [
        "df.DecileScore.value_counts()\n",
        "#print()\n",
        "#df[df.ScoreText.isna()] #unquote to see those ouputs"
      ],
      "execution_count": 0,
      "outputs": [
        {
          "output_type": "execute_result",
          "data": {
            "text/plain": [
              " 1     18465\n",
              " 2      9192\n",
              " 3      8492\n",
              " 4      5338\n",
              " 5      4831\n",
              " 6      4319\n",
              " 7      3338\n",
              " 8      2799\n",
              " 9      2386\n",
              " 10     1638\n",
              "-1        45\n",
              "Name: DecileScore, dtype: int64"
            ]
          },
          "metadata": {
            "tags": []
          },
          "execution_count": 12
        }
      ]
    },
    {
      "cell_type": "markdown",
      "metadata": {
        "id": "dWauhq6tdYc1",
        "colab_type": "text"
      },
      "source": [
        "There are relatively few records from Scale set (17 - All Scales) as compared to Scale Set id (22 - Risk and Prescreen)."
      ]
    },
    {
      "cell_type": "code",
      "metadata": {
        "id": "KjJGsycea0qv",
        "colab_type": "code",
        "outputId": "1c195bda-85ba-433f-af8c-03b79345bb54",
        "colab": {
          "base_uri": "https://localhost:8080/",
          "height": 301
        }
      },
      "source": [
        "sns.distplot(df.ScaleSet_ID,kde=False)"
      ],
      "execution_count": 0,
      "outputs": [
        {
          "output_type": "execute_result",
          "data": {
            "text/plain": [
              "<matplotlib.axes._subplots.AxesSubplot at 0x7fad7c697cf8>"
            ]
          },
          "metadata": {
            "tags": []
          },
          "execution_count": 13
        },
        {
          "output_type": "display_data",
          "data": {
            "image/png": "[encoded data removed]",
            "text/plain": [
              "<Figure size 432x288 with 1 Axes>"
            ]
          },
          "metadata": {
            "tags": []
          }
        }
      ]
    },
    {
      "cell_type": "markdown",
      "metadata": {
        "id": "eGzWIlw9eBNI",
        "colab_type": "text"
      },
      "source": [
        "<ol><li>**Define Question**\n",
        "<li>**Determine dependent variables**\n",
        "<li>**Determine independent variables**\n",
        "<li>**What are the important features?**\n",
        "<li> Split dataset into train and test.\n",
        "<li>**Select Model**\n",
        "<li>**Run Themis to identify biases**"
      ]
    },
    {
      "cell_type": "markdown",
      "metadata": {
        "id": "Jid4XkUyoqyA",
        "colab_type": "text"
      },
      "source": [
        "Each person in the dataset have minimum 3 records. There are few people with 6, 9 & 12 records.\n",
        "<ol><li>Why every person has 3 records? This is because each person is evaluated with 3 kinds of risks (read Scale_ID-Display text) i.e.<ul><li> 7- Risk of Violence, <li> 8- Risk of Recidivism, <li> 19 - Risk of Failure to Appear <br> Each row indicates one of risk and its score.</ul>\n",
        "  <li>Why do other people have 6/9/12 records? (REFER NEXT SECTION -<u> How do we know that the person is actually doing a reoffence?)</u> <br>This is because <ul><li> that person might have done another crime (Different case id's and assessment id's) <li> re-arrested for the same crime ( screening date(later), assessent id's are different). <br> The number of records which will help us to know whether the person has re-offended are very low (less than 10%). <b>The datset is imbalanced (approx. 90% of our data belongs to one time offenders)"
      ]
    },
    {
      "cell_type": "code",
      "metadata": {
        "id": "gHP_6_poobHZ",
        "colab_type": "code",
        "outputId": "ecbaf571-7f95-4bad-be76-ee267d9d7a39",
        "colab": {
          "base_uri": "https://localhost:8080/",
          "height": 390
        }
      },
      "source": [
        "sns.distplot(df.groupby(['Person_ID'])['Agency_Text'].size(),kde=False)\n",
        "print()\n",
        "(df.groupby(['Person_ID'])['Agency_Text'].size()).value_counts()"
      ],
      "execution_count": 0,
      "outputs": [
        {
          "output_type": "execute_result",
          "data": {
            "text/plain": [
              "<matplotlib.axes._subplots.AxesSubplot at 0x7fad7c5a72e8>"
            ]
          },
          "metadata": {
            "tags": []
          },
          "execution_count": 14
        },
        {
          "output_type": "stream",
          "text": [
            "\n"
          ],
          "name": "stdout"
        },
        {
          "output_type": "execute_result",
          "data": {
            "text/plain": [
              "3     17077\n",
              "6      1411\n",
              "9       106\n",
              "12       16\n",
              "Name: Agency_Text, dtype: int64"
            ]
          },
          "metadata": {
            "tags": []
          },
          "execution_count": 14
        },
        {
          "output_type": "display_data",
          "data": {
            "image/png": "[encoded data removed]",
            "text/plain": [
              "<Figure size 432x288 with 1 Axes>"
            ]
          },
          "metadata": {
            "tags": []
          }
        }
      ]
    },
    {
      "cell_type": "markdown",
      "metadata": {
        "id": "JdnacIBAe1A1",
        "colab_type": "text"
      },
      "source": [
        "**How do we know that the person is actually doing a reoffence?** How can we train our model to detect re-offensive people."
      ]
    },
    {
      "cell_type": "code",
      "metadata": {
        "id": "4Bhd2mfncxbD",
        "colab_type": "code",
        "outputId": "a4f1f635-1820-44fd-aba6-605410734d2b",
        "colab": {
          "base_uri": "https://localhost:8080/",
          "height": 532
        }
      },
      "source": [
        "df.groupby(['Person_ID','AssessmentID'])['Agency_Text'].size().head(27)"
      ],
      "execution_count": 0,
      "outputs": [
        {
          "output_type": "execute_result",
          "data": {
            "text/plain": [
              "Person_ID  AssessmentID\n",
              "656        74859           3\n",
              "667        75075           3\n",
              "684        78389           3\n",
              "737        71931           3\n",
              "745        72187           3\n",
              "774        77239           3\n",
              "776        78771           3\n",
              "782        65816           3\n",
              "792        60156           3\n",
              "793        64420           3\n",
              "           75511           3\n",
              "858        76531           3\n",
              "863        67021           3\n",
              "865        71663           3\n",
              "866        649             3\n",
              "           67825           3\n",
              "869        67920           3\n",
              "870        71973           3\n",
              "874        75343           3\n",
              "875        75673           3\n",
              "           75998           3\n",
              "903        68691           3\n",
              "924        73130           3\n",
              "946        60410           3\n",
              "949        67027           3\n",
              "           69966           3\n",
              "1013       67959           3\n",
              "Name: Agency_Text, dtype: int64"
            ]
          },
          "metadata": {
            "tags": []
          },
          "execution_count": 15
        }
      ]
    },
    {
      "cell_type": "markdown",
      "metadata": {
        "id": "qXJKRMcWh87g",
        "colab_type": "text"
      },
      "source": [
        "Person 793 has two cases and two assessments (Different Screening Dates). "
      ]
    },
    {
      "cell_type": "code",
      "metadata": {
        "id": "4l9R5IzwfO4S",
        "colab_type": "code",
        "outputId": "ea18744f-40c0-4308-a523-bde08b330982",
        "colab": {
          "base_uri": "https://localhost:8080/",
          "height": 381
        }
      },
      "source": [
        "df[df.Person_ID==793]"
      ],
      "execution_count": 0,
      "outputs": [
        {
          "output_type": "execute_result",
          "data": {
            "text/html": [
              "<div>\n",
              "<style scoped>\n",
              "    .dataframe tbody tr th:only-of-type {\n",
              "        vertical-align: middle;\n",
              "    }\n",
              "\n",
              "    .dataframe tbody tr th {\n",
              "        vertical-align: top;\n",
              "    }\n",
              "\n",
              "    .dataframe thead th {\n",
              "        text-align: right;\n",
              "    }\n",
              "</style>\n",
              "<table border=\"1\" class=\"dataframe\">\n",
              "  <thead>\n",
              "    <tr style=\"text-align: right;\">\n",
              "      <th></th>\n",
              "      <th>Person_ID</th>\n",
              "      <th>AssessmentID</th>\n",
              "      <th>Case_ID</th>\n",
              "      <th>Agency_Text</th>\n",
              "      <th>LastName</th>\n",
              "      <th>FirstName</th>\n",
              "      <th>MiddleName</th>\n",
              "      <th>Sex_Code_Text</th>\n",
              "      <th>Ethnic_Code_Text</th>\n",
              "      <th>DateOfBirth</th>\n",
              "      <th>ScaleSet_ID</th>\n",
              "      <th>ScaleSet</th>\n",
              "      <th>AssessmentReason</th>\n",
              "      <th>Language</th>\n",
              "      <th>LegalStatus</th>\n",
              "      <th>CustodyStatus</th>\n",
              "      <th>MaritalStatus</th>\n",
              "      <th>Screening_Date</th>\n",
              "      <th>RecSupervisionLevel</th>\n",
              "      <th>RecSupervisionLevelText</th>\n",
              "      <th>Scale_ID</th>\n",
              "      <th>DisplayText</th>\n",
              "      <th>RawScore</th>\n",
              "      <th>DecileScore</th>\n",
              "      <th>ScoreText</th>\n",
              "      <th>AssessmentType</th>\n",
              "      <th>IsCompleted</th>\n",
              "      <th>IsDeleted</th>\n",
              "    </tr>\n",
              "  </thead>\n",
              "  <tbody>\n",
              "    <tr>\n",
              "      <th>19554</th>\n",
              "      <td>793</td>\n",
              "      <td>64420</td>\n",
              "      <td>58454</td>\n",
              "      <td>Probation</td>\n",
              "      <td>Hyder</td>\n",
              "      <td>Geoffrey</td>\n",
              "      <td>G</td>\n",
              "      <td>Male</td>\n",
              "      <td>Caucasian</td>\n",
              "      <td>03/18/86</td>\n",
              "      <td>22</td>\n",
              "      <td>Risk and Prescreen</td>\n",
              "      <td>Intake</td>\n",
              "      <td>English</td>\n",
              "      <td>Other</td>\n",
              "      <td>Probation</td>\n",
              "      <td>Single</td>\n",
              "      <td>8/15/13 0:00</td>\n",
              "      <td>2</td>\n",
              "      <td>Medium</td>\n",
              "      <td>7</td>\n",
              "      <td>Risk of Violence</td>\n",
              "      <td>-1.68</td>\n",
              "      <td>6</td>\n",
              "      <td>Medium</td>\n",
              "      <td>New</td>\n",
              "      <td>1</td>\n",
              "      <td>0</td>\n",
              "    </tr>\n",
              "    <tr>\n",
              "      <th>19555</th>\n",
              "      <td>793</td>\n",
              "      <td>64420</td>\n",
              "      <td>58454</td>\n",
              "      <td>Probation</td>\n",
              "      <td>Hyder</td>\n",
              "      <td>Geoffrey</td>\n",
              "      <td>G</td>\n",
              "      <td>Male</td>\n",
              "      <td>Caucasian</td>\n",
              "      <td>03/18/86</td>\n",
              "      <td>22</td>\n",
              "      <td>Risk and Prescreen</td>\n",
              "      <td>Intake</td>\n",
              "      <td>English</td>\n",
              "      <td>Other</td>\n",
              "      <td>Probation</td>\n",
              "      <td>Single</td>\n",
              "      <td>8/15/13 0:00</td>\n",
              "      <td>2</td>\n",
              "      <td>Medium</td>\n",
              "      <td>8</td>\n",
              "      <td>Risk of Recidivism</td>\n",
              "      <td>-0.44</td>\n",
              "      <td>5</td>\n",
              "      <td>Medium</td>\n",
              "      <td>New</td>\n",
              "      <td>1</td>\n",
              "      <td>0</td>\n",
              "    </tr>\n",
              "    <tr>\n",
              "      <th>19556</th>\n",
              "      <td>793</td>\n",
              "      <td>64420</td>\n",
              "      <td>58454</td>\n",
              "      <td>Probation</td>\n",
              "      <td>Hyder</td>\n",
              "      <td>Geoffrey</td>\n",
              "      <td>G</td>\n",
              "      <td>Male</td>\n",
              "      <td>Caucasian</td>\n",
              "      <td>03/18/86</td>\n",
              "      <td>22</td>\n",
              "      <td>Risk and Prescreen</td>\n",
              "      <td>Intake</td>\n",
              "      <td>English</td>\n",
              "      <td>Other</td>\n",
              "      <td>Probation</td>\n",
              "      <td>Single</td>\n",
              "      <td>8/15/13 0:00</td>\n",
              "      <td>2</td>\n",
              "      <td>Medium</td>\n",
              "      <td>18</td>\n",
              "      <td>Risk of Failure to Appear</td>\n",
              "      <td>18.00</td>\n",
              "      <td>3</td>\n",
              "      <td>Low</td>\n",
              "      <td>New</td>\n",
              "      <td>1</td>\n",
              "      <td>0</td>\n",
              "    </tr>\n",
              "    <tr>\n",
              "      <th>49752</th>\n",
              "      <td>793</td>\n",
              "      <td>75511</td>\n",
              "      <td>68390</td>\n",
              "      <td>Probation</td>\n",
              "      <td>Hyder</td>\n",
              "      <td>Geoffrey</td>\n",
              "      <td>G</td>\n",
              "      <td>Male</td>\n",
              "      <td>Caucasian</td>\n",
              "      <td>03/18/86</td>\n",
              "      <td>22</td>\n",
              "      <td>Risk and Prescreen</td>\n",
              "      <td>Intake</td>\n",
              "      <td>English</td>\n",
              "      <td>Pretrial</td>\n",
              "      <td>Jail Inmate</td>\n",
              "      <td>Single</td>\n",
              "      <td>8/3/14 0:00</td>\n",
              "      <td>3</td>\n",
              "      <td>Medium with Override Consideration</td>\n",
              "      <td>7</td>\n",
              "      <td>Risk of Violence</td>\n",
              "      <td>-1.12</td>\n",
              "      <td>8</td>\n",
              "      <td>High</td>\n",
              "      <td>New</td>\n",
              "      <td>1</td>\n",
              "      <td>0</td>\n",
              "    </tr>\n",
              "    <tr>\n",
              "      <th>49753</th>\n",
              "      <td>793</td>\n",
              "      <td>75511</td>\n",
              "      <td>68390</td>\n",
              "      <td>Probation</td>\n",
              "      <td>Hyder</td>\n",
              "      <td>Geoffrey</td>\n",
              "      <td>G</td>\n",
              "      <td>Male</td>\n",
              "      <td>Caucasian</td>\n",
              "      <td>03/18/86</td>\n",
              "      <td>22</td>\n",
              "      <td>Risk and Prescreen</td>\n",
              "      <td>Intake</td>\n",
              "      <td>English</td>\n",
              "      <td>Pretrial</td>\n",
              "      <td>Jail Inmate</td>\n",
              "      <td>Single</td>\n",
              "      <td>8/3/14 0:00</td>\n",
              "      <td>3</td>\n",
              "      <td>Medium with Override Consideration</td>\n",
              "      <td>8</td>\n",
              "      <td>Risk of Recidivism</td>\n",
              "      <td>-0.43</td>\n",
              "      <td>5</td>\n",
              "      <td>Medium</td>\n",
              "      <td>New</td>\n",
              "      <td>1</td>\n",
              "      <td>0</td>\n",
              "    </tr>\n",
              "    <tr>\n",
              "      <th>49754</th>\n",
              "      <td>793</td>\n",
              "      <td>75511</td>\n",
              "      <td>68390</td>\n",
              "      <td>Probation</td>\n",
              "      <td>Hyder</td>\n",
              "      <td>Geoffrey</td>\n",
              "      <td>G</td>\n",
              "      <td>Male</td>\n",
              "      <td>Caucasian</td>\n",
              "      <td>03/18/86</td>\n",
              "      <td>22</td>\n",
              "      <td>Risk and Prescreen</td>\n",
              "      <td>Intake</td>\n",
              "      <td>English</td>\n",
              "      <td>Pretrial</td>\n",
              "      <td>Jail Inmate</td>\n",
              "      <td>Single</td>\n",
              "      <td>8/3/14 0:00</td>\n",
              "      <td>3</td>\n",
              "      <td>Medium with Override Consideration</td>\n",
              "      <td>18</td>\n",
              "      <td>Risk of Failure to Appear</td>\n",
              "      <td>20.00</td>\n",
              "      <td>3</td>\n",
              "      <td>Low</td>\n",
              "      <td>New</td>\n",
              "      <td>1</td>\n",
              "      <td>0</td>\n",
              "    </tr>\n",
              "  </tbody>\n",
              "</table>\n",
              "</div>"
            ],
            "text/plain": [
              "       Person_ID  AssessmentID  Case_ID  ... AssessmentType IsCompleted IsDeleted\n",
              "19554        793         64420    58454  ...            New           1         0\n",
              "19555        793         64420    58454  ...            New           1         0\n",
              "19556        793         64420    58454  ...            New           1         0\n",
              "49752        793         75511    68390  ...            New           1         0\n",
              "49753        793         75511    68390  ...            New           1         0\n",
              "49754        793         75511    68390  ...            New           1         0\n",
              "\n",
              "[6 rows x 28 columns]"
            ]
          },
          "metadata": {
            "tags": []
          },
          "execution_count": 16
        }
      ]
    },
    {
      "cell_type": "markdown",
      "metadata": {
        "id": "VuLatkxaiHrb",
        "colab_type": "text"
      },
      "source": [
        "Person 949 have one case but two assessments with two different screening dates. WHY? <br>\n",
        "Similarly in case of Person 875."
      ]
    },
    {
      "cell_type": "code",
      "metadata": {
        "id": "XlmUF2oJgEh_",
        "colab_type": "code",
        "outputId": "37733f69-39d0-4b03-8b94-7f5c443a0258",
        "colab": {
          "base_uri": "https://localhost:8080/",
          "height": 381
        }
      },
      "source": [
        "df[df.Person_ID==949]\n",
        "#df[df.Person_ID==875]"
      ],
      "execution_count": 0,
      "outputs": [
        {
          "output_type": "execute_result",
          "data": {
            "text/html": [
              "<div>\n",
              "<style scoped>\n",
              "    .dataframe tbody tr th:only-of-type {\n",
              "        vertical-align: middle;\n",
              "    }\n",
              "\n",
              "    .dataframe tbody tr th {\n",
              "        vertical-align: top;\n",
              "    }\n",
              "\n",
              "    .dataframe thead th {\n",
              "        text-align: right;\n",
              "    }\n",
              "</style>\n",
              "<table border=\"1\" class=\"dataframe\">\n",
              "  <thead>\n",
              "    <tr style=\"text-align: right;\">\n",
              "      <th></th>\n",
              "      <th>Person_ID</th>\n",
              "      <th>AssessmentID</th>\n",
              "      <th>Case_ID</th>\n",
              "      <th>Agency_Text</th>\n",
              "      <th>LastName</th>\n",
              "      <th>FirstName</th>\n",
              "      <th>MiddleName</th>\n",
              "      <th>Sex_Code_Text</th>\n",
              "      <th>Ethnic_Code_Text</th>\n",
              "      <th>DateOfBirth</th>\n",
              "      <th>ScaleSet_ID</th>\n",
              "      <th>ScaleSet</th>\n",
              "      <th>AssessmentReason</th>\n",
              "      <th>Language</th>\n",
              "      <th>LegalStatus</th>\n",
              "      <th>CustodyStatus</th>\n",
              "      <th>MaritalStatus</th>\n",
              "      <th>Screening_Date</th>\n",
              "      <th>RecSupervisionLevel</th>\n",
              "      <th>RecSupervisionLevelText</th>\n",
              "      <th>Scale_ID</th>\n",
              "      <th>DisplayText</th>\n",
              "      <th>RawScore</th>\n",
              "      <th>DecileScore</th>\n",
              "      <th>ScoreText</th>\n",
              "      <th>AssessmentType</th>\n",
              "      <th>IsCompleted</th>\n",
              "      <th>IsDeleted</th>\n",
              "    </tr>\n",
              "  </thead>\n",
              "  <tbody>\n",
              "    <tr>\n",
              "      <th>26799</th>\n",
              "      <td>949</td>\n",
              "      <td>67027</td>\n",
              "      <td>60778</td>\n",
              "      <td>PRETRIAL</td>\n",
              "      <td>MOISE</td>\n",
              "      <td>CHEDLINE</td>\n",
              "      <td>NaN</td>\n",
              "      <td>Female</td>\n",
              "      <td>African-American</td>\n",
              "      <td>05/05/87</td>\n",
              "      <td>22</td>\n",
              "      <td>Risk and Prescreen</td>\n",
              "      <td>Intake</td>\n",
              "      <td>English</td>\n",
              "      <td>Post Sentence</td>\n",
              "      <td>Probation</td>\n",
              "      <td>Single</td>\n",
              "      <td>10/30/13 0:00</td>\n",
              "      <td>3</td>\n",
              "      <td>Medium with Override Consideration</td>\n",
              "      <td>7</td>\n",
              "      <td>Risk of Violence</td>\n",
              "      <td>-1.64</td>\n",
              "      <td>6</td>\n",
              "      <td>Medium</td>\n",
              "      <td>New</td>\n",
              "      <td>1</td>\n",
              "      <td>0</td>\n",
              "    </tr>\n",
              "    <tr>\n",
              "      <th>26800</th>\n",
              "      <td>949</td>\n",
              "      <td>67027</td>\n",
              "      <td>60778</td>\n",
              "      <td>PRETRIAL</td>\n",
              "      <td>MOISE</td>\n",
              "      <td>CHEDLINE</td>\n",
              "      <td>NaN</td>\n",
              "      <td>Female</td>\n",
              "      <td>African-American</td>\n",
              "      <td>05/05/87</td>\n",
              "      <td>22</td>\n",
              "      <td>Risk and Prescreen</td>\n",
              "      <td>Intake</td>\n",
              "      <td>English</td>\n",
              "      <td>Post Sentence</td>\n",
              "      <td>Probation</td>\n",
              "      <td>Single</td>\n",
              "      <td>10/30/13 0:00</td>\n",
              "      <td>3</td>\n",
              "      <td>Medium with Override Consideration</td>\n",
              "      <td>8</td>\n",
              "      <td>Risk of Recidivism</td>\n",
              "      <td>0.49</td>\n",
              "      <td>10</td>\n",
              "      <td>High</td>\n",
              "      <td>New</td>\n",
              "      <td>1</td>\n",
              "      <td>0</td>\n",
              "    </tr>\n",
              "    <tr>\n",
              "      <th>26801</th>\n",
              "      <td>949</td>\n",
              "      <td>67027</td>\n",
              "      <td>60778</td>\n",
              "      <td>PRETRIAL</td>\n",
              "      <td>MOISE</td>\n",
              "      <td>CHEDLINE</td>\n",
              "      <td>NaN</td>\n",
              "      <td>Female</td>\n",
              "      <td>African-American</td>\n",
              "      <td>05/05/87</td>\n",
              "      <td>22</td>\n",
              "      <td>Risk and Prescreen</td>\n",
              "      <td>Intake</td>\n",
              "      <td>English</td>\n",
              "      <td>Post Sentence</td>\n",
              "      <td>Probation</td>\n",
              "      <td>Single</td>\n",
              "      <td>10/30/13 0:00</td>\n",
              "      <td>3</td>\n",
              "      <td>Medium with Override Consideration</td>\n",
              "      <td>18</td>\n",
              "      <td>Risk of Failure to Appear</td>\n",
              "      <td>23.00</td>\n",
              "      <td>6</td>\n",
              "      <td>Medium</td>\n",
              "      <td>New</td>\n",
              "      <td>1</td>\n",
              "      <td>0</td>\n",
              "    </tr>\n",
              "    <tr>\n",
              "      <th>34698</th>\n",
              "      <td>949</td>\n",
              "      <td>69966</td>\n",
              "      <td>60778</td>\n",
              "      <td>PRETRIAL</td>\n",
              "      <td>MOISE</td>\n",
              "      <td>CHEDLINE</td>\n",
              "      <td>NaN</td>\n",
              "      <td>Female</td>\n",
              "      <td>African-American</td>\n",
              "      <td>05/05/87</td>\n",
              "      <td>17</td>\n",
              "      <td>All Scales</td>\n",
              "      <td>Intake</td>\n",
              "      <td>English</td>\n",
              "      <td>Conditional Release</td>\n",
              "      <td>Probation</td>\n",
              "      <td>Single</td>\n",
              "      <td>2/3/14 0:00</td>\n",
              "      <td>3</td>\n",
              "      <td>Medium with Override Consideration</td>\n",
              "      <td>7</td>\n",
              "      <td>Risk of Violence</td>\n",
              "      <td>-1.84</td>\n",
              "      <td>5</td>\n",
              "      <td>Medium</td>\n",
              "      <td>New</td>\n",
              "      <td>1</td>\n",
              "      <td>0</td>\n",
              "    </tr>\n",
              "    <tr>\n",
              "      <th>34699</th>\n",
              "      <td>949</td>\n",
              "      <td>69966</td>\n",
              "      <td>60778</td>\n",
              "      <td>PRETRIAL</td>\n",
              "      <td>MOISE</td>\n",
              "      <td>CHEDLINE</td>\n",
              "      <td>NaN</td>\n",
              "      <td>Female</td>\n",
              "      <td>African-American</td>\n",
              "      <td>05/05/87</td>\n",
              "      <td>17</td>\n",
              "      <td>All Scales</td>\n",
              "      <td>Intake</td>\n",
              "      <td>English</td>\n",
              "      <td>Conditional Release</td>\n",
              "      <td>Probation</td>\n",
              "      <td>Single</td>\n",
              "      <td>2/3/14 0:00</td>\n",
              "      <td>3</td>\n",
              "      <td>Medium with Override Consideration</td>\n",
              "      <td>8</td>\n",
              "      <td>Risk of Recidivism</td>\n",
              "      <td>0.18</td>\n",
              "      <td>8</td>\n",
              "      <td>High</td>\n",
              "      <td>New</td>\n",
              "      <td>1</td>\n",
              "      <td>0</td>\n",
              "    </tr>\n",
              "    <tr>\n",
              "      <th>34700</th>\n",
              "      <td>949</td>\n",
              "      <td>69966</td>\n",
              "      <td>60778</td>\n",
              "      <td>PRETRIAL</td>\n",
              "      <td>MOISE</td>\n",
              "      <td>CHEDLINE</td>\n",
              "      <td>NaN</td>\n",
              "      <td>Female</td>\n",
              "      <td>African-American</td>\n",
              "      <td>05/05/87</td>\n",
              "      <td>17</td>\n",
              "      <td>All Scales</td>\n",
              "      <td>Intake</td>\n",
              "      <td>English</td>\n",
              "      <td>Conditional Release</td>\n",
              "      <td>Probation</td>\n",
              "      <td>Single</td>\n",
              "      <td>2/3/14 0:00</td>\n",
              "      <td>3</td>\n",
              "      <td>Medium with Override Consideration</td>\n",
              "      <td>18</td>\n",
              "      <td>Risk of Failure to Appear</td>\n",
              "      <td>23.00</td>\n",
              "      <td>5</td>\n",
              "      <td>Medium</td>\n",
              "      <td>New</td>\n",
              "      <td>1</td>\n",
              "      <td>0</td>\n",
              "    </tr>\n",
              "  </tbody>\n",
              "</table>\n",
              "</div>"
            ],
            "text/plain": [
              "       Person_ID  AssessmentID  Case_ID  ... AssessmentType IsCompleted IsDeleted\n",
              "26799        949         67027    60778  ...            New           1         0\n",
              "26800        949         67027    60778  ...            New           1         0\n",
              "26801        949         67027    60778  ...            New           1         0\n",
              "34698        949         69966    60778  ...            New           1         0\n",
              "34699        949         69966    60778  ...            New           1         0\n",
              "34700        949         69966    60778  ...            New           1         0\n",
              "\n",
              "[6 rows x 28 columns]"
            ]
          },
          "metadata": {
            "tags": []
          },
          "execution_count": 17
        }
      ]
    },
    {
      "cell_type": "markdown",
      "metadata": {
        "id": "FbyPpnhyjJ5z",
        "colab_type": "text"
      },
      "source": [
        ""
      ]
    },
    {
      "cell_type": "markdown",
      "metadata": {
        "id": "yPWSAQWvuvpM",
        "colab_type": "text"
      },
      "source": [
        "CREATE FEATURES <ol><li> Offerenders Age (Retrieve it from DoB)\n",
        "  <li> Is Juvenile?\n",
        "<li>    Number of previous cases\n",
        "  <li> "
      ]
    },
    {
      "cell_type": "markdown",
      "metadata": {
        "id": "pBNAbbKzxQeo",
        "colab_type": "text"
      },
      "source": [
        "Age at the time of Screening."
      ]
    },
    {
      "cell_type": "code",
      "metadata": {
        "id": "7focDVNQiVpZ",
        "colab_type": "code",
        "colab": {}
      },
      "source": [
        "df2 = df.copy()\n",
        "import datetime\n",
        "df2['Screening_DOB'] = pd.to_datetime(df2.Screening_Date)\n",
        "df2['DateOfBirth'] = pd.to_datetime(df2.DateOfBirth)"
      ],
      "execution_count": 0,
      "outputs": []
    },
    {
      "cell_type": "markdown",
      "metadata": {
        "id": "_MkzbXSQwPk9",
        "colab_type": "text"
      },
      "source": [
        "Age"
      ]
    },
    {
      "cell_type": "code",
      "metadata": {
        "id": "Gpbomy9fvyyA",
        "colab_type": "code",
        "colab": {}
      },
      "source": [
        "df2['Age'] =df2.Screening_DOB-df2.DateOfBirth"
      ],
      "execution_count": 0,
      "outputs": []
    },
    {
      "cell_type": "code",
      "metadata": {
        "id": "eGLLMec3Oh_y",
        "colab_type": "code",
        "colab": {}
      },
      "source": [
        "#df2.Age.apply(lambda a: a.year).dt.year"
      ],
      "execution_count": 0,
      "outputs": []
    },
    {
      "cell_type": "code",
      "metadata": {
        "id": "ktuqZMrKOvP-",
        "colab_type": "code",
        "outputId": "be38531f-6264-444b-ce41-ae877fe48eef",
        "colab": {
          "base_uri": "https://localhost:8080/",
          "height": 352
        }
      },
      "source": [
        "from dateutil.relativedelta import relativedelta\n",
        "rdelta = relativedelta(df2.Screening_DOB, df2.DateOfBirth)\n",
        "#print ('Age in days - ', rdelta.days)"
      ],
      "execution_count": 0,
      "outputs": [
        {
          "output_type": "error",
          "ename": "ValueError",
          "evalue": "ignored",
          "traceback": [
            "\u001b[0;31m---------------------------------------------------------------------------\u001b[0m",
            "\u001b[0;31mValueError\u001b[0m                                Traceback (most recent call last)",
            "\u001b[0;32m<ipython-input-66-5f3b9f82e5f3>\u001b[0m in \u001b[0;36m<module>\u001b[0;34m()\u001b[0m\n\u001b[1;32m      1\u001b[0m \u001b[0;32mfrom\u001b[0m \u001b[0mdateutil\u001b[0m\u001b[0;34m.\u001b[0m\u001b[0mrelativedelta\u001b[0m \u001b[0;32mimport\u001b[0m \u001b[0mrelativedelta\u001b[0m\u001b[0;34m\u001b[0m\u001b[0;34m\u001b[0m\u001b[0m\n\u001b[0;32m----> 2\u001b[0;31m \u001b[0mrelativedelta\u001b[0m\u001b[0;34m(\u001b[0m\u001b[0mdf2\u001b[0m\u001b[0;34m.\u001b[0m\u001b[0mScreening_Date\u001b[0m\u001b[0;34m,\u001b[0m \u001b[0mdf2\u001b[0m\u001b[0;34m.\u001b[0m\u001b[0mDateOfBirth\u001b[0m\u001b[0;34m)\u001b[0m\u001b[0;34m\u001b[0m\u001b[0;34m\u001b[0m\u001b[0m\n\u001b[0m\u001b[1;32m      3\u001b[0m \u001b[0;31m#print ('Age in days - ', rdelta.days)\u001b[0m\u001b[0;34m\u001b[0m\u001b[0;34m\u001b[0m\u001b[0;34m\u001b[0m\u001b[0m\n",
            "\u001b[0;32m/usr/local/lib/python3.6/dist-packages/dateutil/relativedelta.py\u001b[0m in \u001b[0;36m__init__\u001b[0;34m(self, dt1, dt2, years, months, days, leapdays, weeks, hours, minutes, seconds, microseconds, year, month, day, weekday, yearday, nlyearday, hour, minute, second, microsecond)\u001b[0m\n\u001b[1;32m    128\u001b[0m                              \"ambiguous and not currently supported.\")\n\u001b[1;32m    129\u001b[0m \u001b[0;34m\u001b[0m\u001b[0m\n\u001b[0;32m--> 130\u001b[0;31m         \u001b[0;32mif\u001b[0m \u001b[0mdt1\u001b[0m \u001b[0;32mand\u001b[0m \u001b[0mdt2\u001b[0m\u001b[0;34m:\u001b[0m\u001b[0;34m\u001b[0m\u001b[0;34m\u001b[0m\u001b[0m\n\u001b[0m\u001b[1;32m    131\u001b[0m             \u001b[0;31m# datetime is a subclass of date. So both must be date\u001b[0m\u001b[0;34m\u001b[0m\u001b[0;34m\u001b[0m\u001b[0;34m\u001b[0m\u001b[0m\n\u001b[1;32m    132\u001b[0m             if not (isinstance(dt1, datetime.date) and\n",
            "\u001b[0;32m/usr/local/lib/python3.6/dist-packages/pandas/core/generic.py\u001b[0m in \u001b[0;36m__nonzero__\u001b[0;34m(self)\u001b[0m\n\u001b[1;32m   1476\u001b[0m         raise ValueError(\"The truth value of a {0} is ambiguous. \"\n\u001b[1;32m   1477\u001b[0m                          \u001b[0;34m\"Use a.empty, a.bool(), a.item(), a.any() or a.all().\"\u001b[0m\u001b[0;34m\u001b[0m\u001b[0;34m\u001b[0m\u001b[0m\n\u001b[0;32m-> 1478\u001b[0;31m                          .format(self.__class__.__name__))\n\u001b[0m\u001b[1;32m   1479\u001b[0m \u001b[0;34m\u001b[0m\u001b[0m\n\u001b[1;32m   1480\u001b[0m     \u001b[0m__bool__\u001b[0m \u001b[0;34m=\u001b[0m \u001b[0m__nonzero__\u001b[0m\u001b[0;34m\u001b[0m\u001b[0;34m\u001b[0m\u001b[0m\n",
            "\u001b[0;31mValueError\u001b[0m: The truth value of a Series is ambiguous. Use a.empty, a.bool(), a.item(), a.any() or a.all()."
          ]
        }
      ]
    },
    {
      "cell_type": "code",
      "metadata": {
        "id": "XlsEmTEBQXzG",
        "colab_type": "code",
        "colab": {}
      },
      "source": [
        ""
      ],
      "execution_count": 0,
      "outputs": []
    }
  ]
}